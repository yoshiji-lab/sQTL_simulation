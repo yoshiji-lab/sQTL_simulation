{
 "cells": [
  {
   "cell_type": "markdown",
   "id": "fb9f9feb",
   "metadata": {},
   "source": [
    "# Analytic Power Curves for sQTL / GWAS\n",
    "\n",
    "This notebook uses a closed-form formula to plot statistical power under a genome-wide threshold (e.g., Bonferroni or BH-equivalent). No external data or heavy simulations are required."
   ]
  },
  {
   "cell_type": "markdown",
   "id": "81e0c384",
   "metadata": {},
   "source": [
    "## Quick start\n",
    "\n",
    "1. Install dependencies:\n",
    "```bash\n",
    "!pip install numpy scipy matplotlib\n",
    "```\n",
    "2. Run the cells below to generate two plots:\n",
    "   - Power vs **effect size** at fixed MAF  \n",
    "   - Power vs **MAF** at fixed effect size"
   ]
  },
  {
   "cell_type": "markdown",
   "id": "e7ff6804",
   "metadata": {},
   "source": [
    "## Method\n",
    "\n",
    "For a linear additive model:\n",
    "\n",
    "$$y = \\beta g + \\varepsilon,\\quad \\varepsilon \\sim \\mathcal{N}(0,1)$$\n",
    "\n",
    "- **Genotype variance**:  \n",
    "  $$\\mathrm{Var}(g) = 2\\,\\mathrm{MAF}\\,(1-\\mathrm{MAF})$$\n",
    "\n",
    "- **Non-centrality parameter**:  \n",
    "  $$\\lambda = \\beta \\,\\sqrt{N\\,\\mathrm{Var}(g)}$$\n",
    "\n",
    "Power under a two-sided cutoff ($p_{\\mathrm{thr}}$) is\n",
    "\n",
    "$$\n",
    "\\mathrm{Power}\n",
    "  = \\Pr\\bigl(|Z_\\lambda| > z_{p_{\\mathrm{thr}/2}}\\bigr)\n",
    "  = \\Phi(-z + \\lambda) + \\bigl[1 - \\Phi(z + \\lambda)\\bigr].\n",
    "$$\n",
    "\n",
    "Setting $p_{\\mathrm{thr}} = 6\\times10^{-8}$ mimics BH 5 % for $\\sim 5$ million tests.\n",
    "\n",
    "$$\n",
    "p_{\\mathrm{thr}} = 6\\times10^{-8}\n",
    "$$"
   ]
  },
  {
   "cell_type": "code",
   "execution_count": 1,
   "id": "c8cdb9b2",
   "metadata": {},
   "outputs": [],
   "source": [
    "import numpy as np\n",
    "import matplotlib.pyplot as plt\n",
    "from scipy import stats\n",
    "\n",
    "def analytic_power(n, maf, beta, p_thr, sigma=1.0):\n",
    "    \"\"\"Closed-form power for an additive genetic effect.\"\"\"\n",
    "    z_cut = stats.norm.isf(p_thr / 2.0)\n",
    "    var_g = 2.0 * maf * (1.0 - maf)\n",
    "    ncp   = beta * np.sqrt(n * var_g) / sigma\n",
    "    return stats.norm.sf(z_cut - ncp) + stats.norm.cdf(-z_cut - ncp)\n"
   ]
  },
  {
   "cell_type": "code",
   "execution_count": 2,
   "id": "6b206d66",
   "metadata": {},
   "outputs": [
    {
     "data": {
      "image/png": "[encoded data removed]",
      "text/plain": [
       "<Figure size 432x288 with 1 Axes>"
      ]
     },
     "metadata": {
      "needs_background": "light"
     },
     "output_type": "display_data"
    }
   ],
   "source": [
    "# Parameters\n",
    "n = 1800            # sample size\n",
    "p_thr = 6e-8        # genome-wide threshold (two-sided)\n",
    "\n",
    "# 1) Power vs Effect size at fixed MAF\n",
    "maf_fixed = 0.20\n",
    "beta_grid = np.arange(0.00, 0.41, 0.02)\n",
    "power_effect = [analytic_power(n, maf_fixed, b, p_thr) for b in beta_grid]\n",
    "\n",
    "plt.figure(figsize=(6,4))\n",
    "plt.plot(beta_grid, power_effect, marker='o')\n",
    "plt.xlabel('Effect per allele β (SD)')\n",
    "plt.ylabel('Power')\n",
    "plt.title(f'Power vs β  |  N={n}, MAF={maf_fixed}, p≤{p_thr:g}')\n",
    "plt.ylim(0,1)\n",
    "plt.grid(True)\n",
    "plt.show()\n"
   ]
  },
  {
   "cell_type": "markdown",
   "id": "d1187749",
   "metadata": {},
   "source": [
    "## Does this match GTEx discoveries?\n",
    "\n",
    "| Parameter                | Notebook example             | GTEx single-tissue (v8/v10)                                 | Comment                                                                                   |\n",
    "|--------------------------|------------------------------|-------------------------------------------------------------|-------------------------------------------------------------------------------------------|\n",
    "| **Sample size**          | *N = 1 800*                  | 200–800 (adipose ≈ 580)                                     | Our curve uses a 3× larger cohort → detects smaller effects.                              |\n",
    "| **MAF**                  | 0.20                         | Median MAF of GTEx lead sQTLs ≈ 0.18–0.22                   | Very similar.                                                                             |\n",
    "| **Genome-wide threshold**| p ≤ 6 × 10⁻⁸                 | GTEx BH 5 % ≈ (5–8) × 10⁻⁸                                  | Same order of magnitude.                                                                  |\n",
    "| **Effect for 50 % power**| β ≈ 0.24 SD per allele       | Top ~20 % of GTEx sQTLs (Max-ΔPSI ≥ 0.20 ≈ β 0.25 SD) clear p ≤ 8 × 10⁻⁸ | Curve predicts β ≈ 0.25 SD reaches ~60 % power at N = 1 800.                             |\n",
    "\n",
    "The analytic formula reproduces the real discovery boundary seen in GTEx "
   ]
  }
 ],
 "metadata": {
  "kernelspec": {
   "display_name": "Python 3 (ipykernel)",
   "language": "python",
   "name": "python3"
  },
  "language_info": {
   "codemirror_mode": {
    "name": "ipython",
    "version": 3
   },
   "file_extension": ".py",
   "mimetype": "text/x-python",
   "name": "python",
   "nbconvert_exporter": "python",
   "pygments_lexer": "ipython3",
   "version": "3.8.11"
  }
 },
 "nbformat": 4,
 "nbformat_minor": 5
}
