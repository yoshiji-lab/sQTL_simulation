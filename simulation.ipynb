import numpy as np
import matplotlib.pyplot as plt
from scipy import stats

# ────────────────────────────────────────────────────────────
def analytic_power(n, maf, beta, p_thr, sigma=1.0):
    """
    Closed-form power for a linear additive genotype effect.

    Parameters
    ----------
    n      : int     sample size
    maf    : float   minor-allele frequency (0 < maf < 0.5)
    beta   : float   true per-allele effect (in SD units)
    p_thr  : float   two-sided significance threshold (e.g. 6e-8)
    sigma  : float   residual SD of phenotype (default 1)

    Returns
    -------
    power  : float
    """
    z_cut = stats.norm.isf(p_thr / 2.0)         # two-sided
    var_g = 2.0 * maf * (1.0 - maf)             # addit. genotype variance
    ncp   = beta * np.sqrt(n * var_g) / sigma   # non-centrality parameter
    power = stats.norm.sf(z_cut - ncp) + stats.norm.cdf(-z_cut - ncp)
    return power
# ────────────────────────────────────────────────────────────


# PARAMETERS YOU CAN EDIT
n      = 1800     # sample size
p_thr  = 6e-8     # genome-wide threshold
# -----------------------------------------------------------


# === 1) Power vs EFFECT SIZE at fixed MAF ==================
maf_fixed     = 0.20
effect_grid   = np.arange(0.00, 0.41, 0.02)     # 0.00–0.40 SD
power_effect  = [analytic_power(n, maf_fixed, b, p_thr)
                 for b in effect_grid]

plt.figure(figsize=(6,4))
plt.plot(effect_grid, power_effect, marker='o')
plt.xlabel("Effect per allele β (SD)")
plt.ylabel("Power")
plt.title(f"Power vs β  |  N={n}, MAF={maf_fixed}, p≤{p_thr:g}")
plt.ylim(0, 1); plt.grid(True); plt.show()

